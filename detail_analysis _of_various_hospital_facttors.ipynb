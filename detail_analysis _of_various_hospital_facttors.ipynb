{
  "cells": [
    {
      "cell_type": "markdown",
      "metadata": {
        "_cell_guid": "366487c0-d891-f945-c30d-26fb004b4693",
        "_uuid": "b68768d4adedae7fb4b3ad5c736f05c4b98416b2"
      },
      "source": [
        "This notebook provides detail analysis of the various factors by means of visualisation."
      ]
    },
    {
      "cell_type": "code",
      "execution_count": null,
      "metadata": {
        "_cell_guid": "0d582f0e-ade1-4c77-f505-ab7ea419d2fb",
        "_uuid": "2c7402f360dbb673d1afc613839fed3534e44beb"
      },
      "outputs": [],
      "source": [
        "# This Python 3 environment comes with many helpful analytics libraries installed\n",
        "# It is defined by the kaggle/python docker image: https://github.com/kaggle/docker-python\n",
        "# For example, here's several helpful packages to load in \n",
        "\n",
        "import numpy as np # linear algebra\n",
        "import pandas as pd # data processing, CSV file I/O (e.g. pd.read_csv)\n",
        "\n",
        "# Input data files are available in the \"../input/\" directory.\n",
        "# For example, running this (by clicking run or pressing Shift+Enter) will list the files in the input directory\n",
        "\n",
        "from subprocess import check_output\n",
        "print(check_output([\"ls\", \"../input\"]).decode(\"utf8\"))\n",
        "\n",
        "# Any results you write to the current directory are saved as output."
      ]
    },
    {
      "cell_type": "code",
      "execution_count": null,
      "metadata": {
        "_cell_guid": "83988554-0785-973d-2423-37ae5124c6ab",
        "_uuid": "df0a93619c78ecb04803dbe3293c7b247ab278cd"
      },
      "outputs": [],
      "source": [
        "#Loading all the necessary libraries\n",
        "\n",
        "import numpy as np # linear algebra\n",
        "import pandas as pd # data processing, CSV file I/O (e.g. pd.read_csv)\n",
        "import matplotlib.pyplot as plt #for visualisation\n",
        "import seaborn as sns #for visualisation\n",
        "%matplotlib inline "
      ]
    },
    {
      "cell_type": "code",
      "execution_count": null,
      "metadata": {
        "_cell_guid": "919a9c59-1ba2-0b43-323d-71e3f187554f",
        "_uuid": "363e17300c3130fb3bdbffc820c6d9fb5902d215"
      },
      "outputs": [],
      "source": [
        "hospital_data=pd.read_csv(\"../input/HospInfo.csv\")\n",
        "hospital_data.head()"
      ]
    },
    {
      "cell_type": "code",
      "execution_count": null,
      "metadata": {
        "_cell_guid": "744bd933-9898-fbfe-c1ba-a69ac7793d10",
        "_uuid": "cdb9108f9708b5c04306d8799b8c5a2bb6d3896d"
      },
      "outputs": [],
      "source": [
        "hospital_data.info()"
      ]
    },
    {
      "cell_type": "markdown",
      "metadata": {
        "_cell_guid": "5d282d4f-3eea-6ecf-9664-c14067386256",
        "_uuid": "295bba324145de915c4805b5d324de489fc79298"
      },
      "source": [
        "We can see that there are few columns which has missing values"
      ]
    },
    {
      "cell_type": "markdown",
      "metadata": {
        "_cell_guid": "75bbace2-c6fe-eb7b-a106-221cbe97343e",
        "_uuid": "24c8256bea7fa58d791b89401f873049f07d37d2"
      },
      "source": [
        "### Let us make it more clear by calculating number of missing values in a column"
      ]
    },
    {
      "cell_type": "code",
      "execution_count": null,
      "metadata": {
        "_cell_guid": "90a39713-3196-93c4-64b9-e3a1586a7011",
        "_uuid": "3be8bc92df9d6d17d48de537fa17b763d1e6c020"
      },
      "outputs": [],
      "source": [
        "def num_missing(x):\n",
        "  return sum(x.isnull())\n",
        "\n",
        "#Applying per column:\n",
        "print (\"Missing values per column:\")\n",
        "print (hospital_data.apply(num_missing, axis=0) )#axis=0 defines that function is to be applied on each column"
      ]
    },
    {
      "cell_type": "markdown",
      "metadata": {
        "_cell_guid": "f935a47c-f571-714e-ccad-36eeb402c40f",
        "_uuid": "69284f12b822d11d232d09e1033b743b9859fbbf"
      },
      "source": [
        "### Above we can see that the location has all the values misssing except the 1st row.This column is of no use.Let us drop location column."
      ]
    },
    {
      "cell_type": "code",
      "execution_count": null,
      "metadata": {
        "_cell_guid": "2ed5f8cf-2ed7-df4d-8071-ece5afd877eb",
        "_uuid": "2533604d437323978cdd6e1cd0cf25fc0bc8821a"
      },
      "outputs": [],
      "source": [
        "hospital_data.drop('Location',axis=1,inplace='True')"
      ]
    },
    {
      "cell_type": "code",
      "execution_count": null,
      "metadata": {
        "_cell_guid": "01833701-42c5-979f-d31b-23dd258f3777",
        "_uuid": "79bc76cb18b87f1ccb0f45af1531d10efb5deb6c"
      },
      "outputs": [],
      "source": [
        "hospital_data.shape"
      ]
    },
    {
      "cell_type": "code",
      "execution_count": null,
      "metadata": {
        "_cell_guid": "53b6e422-f5ef-aa74-3e67-a7e6a8844471",
        "_uuid": "a89514781349db49ef7e550b7861c326c50b1951"
      },
      "outputs": [],
      "source": [
        "hospital_data.describe()"
      ]
    },
    {
      "cell_type": "code",
      "execution_count": null,
      "metadata": {
        "_cell_guid": "359bcbaf-1d28-683b-c419-f13cc66c7dc8",
        "_uuid": "17c19654bb195ee01da6fe9976c127e45098b18e"
      },
      "outputs": [],
      "source": [
        "hospital_data.columns.tolist()"
      ]
    },
    {
      "cell_type": "markdown",
      "metadata": {
        "_cell_guid": "9fa11cb1-4de5-ced5-9759-b4be0fd49ef4",
        "_uuid": "3830ae1a32f23d353b78f3d55107a246b89291e3"
      },
      "source": [
        "# Checking Ownership of the hospitals\n",
        "Let us check how many hospitals are owned by a particular individual or government and others."
      ]
    },
    {
      "cell_type": "code",
      "execution_count": null,
      "metadata": {
        "_cell_guid": "68716789-dad7-6f9e-90ba-f56e13c282a4",
        "_uuid": "8490c0dc72458407aeab8aa9201fb744cee4c287"
      },
      "outputs": [],
      "source": [
        "unique_hospital_ownership=hospital_data['Hospital Ownership'].unique()\n",
        "unique_hospital_ownership"
      ]
    },
    {
      "cell_type": "code",
      "execution_count": null,
      "metadata": {
        "_cell_guid": "d13d89bd-5784-f4e9-2670-cdf61ab4b4ce",
        "_uuid": "5eda72c1c17d194cb35a8990ecba03ece35470e2"
      },
      "outputs": [],
      "source": [
        "dummy_data=pd.get_dummies(hospital_data['Hospital Ownership'])\n",
        "dummy_data.head()\n",
        "#dummy_data.info()"
      ]
    },
    {
      "cell_type": "code",
      "execution_count": null,
      "metadata": {
        "_cell_guid": "2191f6f9-fb43-aa96-3cc8-40f747c94da2",
        "_uuid": "a598cc19a3aa9b6cb912e11d8f32d3152e4d3836"
      },
      "outputs": [],
      "source": [
        "a=dummy_data['Government - Federal'].sum()\n",
        "b=dummy_data['Government - Hospital District or Authority'].sum()\n",
        "c=dummy_data['Government - Local'].sum()\n",
        "d=dummy_data['Government - State'].sum()\n",
        "e=dummy_data['Physician'].sum()\n",
        "f=dummy_data['Proprietary'].sum()\n",
        "g=dummy_data['Tribal'].sum()\n",
        "h=dummy_data['Voluntary non-profit - Church'].sum()\n",
        "i=dummy_data['Voluntary non-profit - Other'].sum()\n",
        "j=dummy_data['Voluntary non-profit - Private'].sum()\n",
        "list=[a,b,c,d,e,f,g,h,i,j]\n",
        "list"
      ]
    },
    {
      "cell_type": "markdown",
      "metadata": {
        "_cell_guid": "ad59e8ff-00c0-21fe-6985-d490e5915ec4",
        "_uuid": "a721228af82d403ca2a193ef4ba6cfd58aee2bca"
      },
      "source": [
        "**Here we got the total count of ownership of the hospitals by different groups**"
      ]
    },
    {
      "cell_type": "code",
      "execution_count": null,
      "metadata": {
        "_cell_guid": "524de526-298f-6194-5d5b-0665434ddef1",
        "_uuid": "6c225db3b1e16659b9ccc9ba596f5c291a2ddc81"
      },
      "outputs": [],
      "source": [
        "ax=sns.barplot(y=unique_hospital_ownership,x=list,data=hospital_data)\n",
        "ax.set(xlabel='Number of  hospitals', ylabel='Ownership')"
      ]
    },
    {
      "cell_type": "markdown",
      "metadata": {
        "_cell_guid": "63d5da64-2e53-c695-3ee6-da882482320a",
        "_uuid": "06694f36b3bba45193bebeae66aadd47d4cd7e6b"
      },
      "source": [
        "**We can see that most of the hospitals are owned by Physician.Also the hospitals under Church which is non-profit organisation are very few**"
      ]
    },
    {
      "cell_type": "code",
      "execution_count": null,
      "metadata": {
        "_cell_guid": "d051e672-c710-48e8-fd25-2006c7b398e4",
        "_uuid": "5e82e53f5a7f4f1a2038c313508b5c9ee330280b"
      },
      "outputs": [],
      "source": [
        "a= pd.pivot_table(hospital_data,values=['Hospital overall rating'],index=['Hospital Ownership'],columns=['Hospital Type'],aggfunc='count',margins=False)\n",
        "\n",
        "plt.figure(figsize=(10,10))\n",
        "sns.heatmap(a['Hospital overall rating'],linewidths=.5,annot=True,vmin=0.01,cmap='YlGnBu')\n",
        "plt.title('Total rating of the types of hospitals under the ownership of various community')"
      ]
    },
    {
      "cell_type": "markdown",
      "metadata": {
        "_cell_guid": "097056d2-360a-92d3-6e58-d94ff61f72e2",
        "_uuid": "2a75f34fdedd8fcc2ed0bd17da6871146c5be877"
      },
      "source": [
        "#Categorising Hospitals w.r.t to their ratings"
      ]
    },
    {
      "cell_type": "code",
      "execution_count": null,
      "metadata": {
        "_cell_guid": "71194c99-6936-88ae-c06f-58117d10c58d",
        "_uuid": "88ede442319b2593988ff774cbbd8423fa887ab6"
      },
      "outputs": [],
      "source": [
        "hospital_data['Hospital overall rating'].unique()"
      ]
    },
    {
      "cell_type": "markdown",
      "metadata": {
        "_cell_guid": "02a755cc-3b80-6a85-6cf7-06cf9e8a56b1",
        "_uuid": "2fa299f6fbf94512e5c31034b582441e1bfe308b"
      },
      "source": [
        "**Let us drop those rows where Hospital overall Rating==Not Available**"
      ]
    },
    {
      "cell_type": "code",
      "execution_count": null,
      "metadata": {
        "_cell_guid": "c5b387fe-f1e4-1617-19fb-2918bda4bf56",
        "_uuid": "f7d5828d31ef33d6a72ee5fea93ac079f12b6049"
      },
      "outputs": [],
      "source": [
        "AvailableRating_data=hospital_data.drop(hospital_data[hospital_data['Hospital overall rating']=='Not Available'].index)\n",
        "#AvailableRating_data.info()"
      ]
    },
    {
      "cell_type": "markdown",
      "metadata": {
        "_cell_guid": "54e12473-9e90-f414-b393-dfb572065bb6",
        "_uuid": "34716627aa271dcd4de4aa9615860e8b68ebac09"
      },
      "source": [
        "### Sorting the values in Descending order as per the overall rating of the hospitals"
      ]
    },
    {
      "cell_type": "code",
      "execution_count": null,
      "metadata": {
        "_cell_guid": "180d516b-f485-bc6f-4188-411aa5f5e73b",
        "_uuid": "18b8b2be06c78ca4fc6940e72bd69e4960134809"
      },
      "outputs": [],
      "source": [
        "sorted_rating=AvailableRating_data.sort_values(['Hospital overall rating'], ascending=False)\n",
        "sorted_rating['Hospital overall rating'].head()\n",
        "sorted_rating[['Hospital Name','Hospital overall rating']].head()"
      ]
    },
    {
      "cell_type": "code",
      "execution_count": null,
      "metadata": {
        "_cell_guid": "17a30722-b65b-6371-0550-da8be1b674c3",
        "_uuid": "dda047de3568fd7b8889f52664ad97fb8ae7c703"
      },
      "outputs": [],
      "source": [
        "Unique_sorted_rating=sorted_rating['Hospital overall rating'].unique()\n",
        "Unique_sorted_rating"
      ]
    },
    {
      "cell_type": "markdown",
      "metadata": {
        "_cell_guid": "ca4a5314-e987-b6fc-cc90-75d39eea7ac0",
        "_uuid": "4c8d219bae998179b9a75b4253e847622589969b"
      },
      "source": [
        "### Finding all the rows with rating 5,4,3,2,1 and separating them and keeping a count of those rows which belongs to that particular rating category"
      ]
    },
    {
      "cell_type": "code",
      "execution_count": null,
      "metadata": {
        "_cell_guid": "d3f042f5-b86a-fffc-5a85-3c1f472ecc69",
        "_uuid": "45aec288fa3a711a79847cbf439457eb944520e9"
      },
      "outputs": [],
      "source": [
        "rating_with_5=sorted_rating.loc[sorted_rating['Hospital overall rating'] =='5']\n",
        "Rating_5=rating_with_5['Provider ID'].count()\n",
        "#rating_with_5[['Hospital Name','Hospital overall rating']].head()\n",
        "rating_with_4=sorted_rating.loc[sorted_rating['Hospital overall rating'] =='4']\n",
        "Rating_4=rating_with_4['Provider ID'].count()\n",
        "rating_with_3=sorted_rating.loc[sorted_rating['Hospital overall rating'] =='3']\n",
        "Rating_3=rating_with_3['Provider ID'].count()\n",
        "rating_with_2=sorted_rating.loc[sorted_rating['Hospital overall rating'] =='2']\n",
        "Rating_2=rating_with_2['Provider ID'].count()\n",
        "rating_with_1=sorted_rating.loc[sorted_rating['Hospital overall rating'] =='1']\n",
        "Rating_1=rating_with_1['Provider ID'].count()\n",
        "#Rating_5\n",
        "#Rating_4\n",
        "#Rating_3\n",
        "#Rating_2\n",
        "#Rating_1\n",
        "list=[Rating_5,Rating_4,Rating_3,Rating_2,Rating_1]\n",
        "list\n",
        "print(Rating_5,Rating_4,Rating_3,Rating_2,Rating_1)"
      ]
    },
    {
      "cell_type": "code",
      "execution_count": null,
      "metadata": {
        "_cell_guid": "318b3103-b7c6-2b0d-345f-4785a63d0c97",
        "_uuid": "283bcbc84de859c7641d112e7fe1187522a39493"
      },
      "outputs": [],
      "source": [
        "ax=sns.barplot(x=Unique_sorted_rating,y=list,data=hospital_data,palette='pastel')\n",
        "ax.set(xlabel='Rating out of 5', ylabel='Number of  hospitals')"
      ]
    },
    {
      "cell_type": "markdown",
      "metadata": {
        "_cell_guid": "de19c0ce-1247-150a-27a8-b891ba388b40",
        "_uuid": "94591d8215633743d4a9c4b1f18848be3a8a6de5"
      },
      "source": [
        "**Thus we can see that most of the hospitals are given the rating of 3.Hospitals with very high rating(5) and very low rating(1) are very few.**"
      ]
    },
    {
      "cell_type": "markdown",
      "metadata": {
        "_cell_guid": "3088f1c6-25db-7885-9c64-8cb6b5b27a94",
        "_uuid": "867b2b55853d7c6f9754c07cf0192bde704ebba3"
      },
      "source": [
        "# Which states has maximum number of 5 star rating hospitals?"
      ]
    },
    {
      "cell_type": "code",
      "execution_count": null,
      "metadata": {
        "_cell_guid": "b59bcece-d7c5-91dd-8f20-65bf72d6c104",
        "_uuid": "9171f1b61853d9fe9f384c7d82fe8f02229df741"
      },
      "outputs": [],
      "source": [
        "hospital_data['Hospital Type'].unique()"
      ]
    },
    {
      "cell_type": "markdown",
      "metadata": {
        "_cell_guid": "7f35c12b-1c07-88d5-a5d8-a28008f20c67",
        "_uuid": "8c5e729df634b12a39238d45c7c80f719e7563b8"
      },
      "source": [
        "# Acute care hospitals with 5 star rating."
      ]
    },
    {
      "cell_type": "code",
      "execution_count": null,
      "metadata": {
        "_cell_guid": "56b7017b-257f-9cc7-4606-7fc461a4f8a0",
        "_uuid": "62745ebe6260a9c32d9832c9e08d84239738ec28"
      },
      "outputs": [],
      "source": [
        "State_acute_5=hospital_data.loc[(hospital_data[\"Hospital Type\"]==\"Acute Care Hospitals\") & (hospital_data[\"Hospital overall rating\"]==\"5\"),[\"State\"]]\n",
        "State_acute_5.head()\n",
        "#State_acute_5['State'].unique()"
      ]
    },
    {
      "cell_type": "code",
      "execution_count": null,
      "metadata": {
        "_cell_guid": "0ffddc95-6bea-75f7-2aa8-4ad2b4477213",
        "_uuid": "00e83c72d41985f40d3737ceb1ddca438391bb5d"
      },
      "outputs": [],
      "source": [
        "S_A_5=State_acute_5['State'].value_counts()\n",
        "index=S_A_5.index\n",
        "values=S_A_5.values\n",
        "values"
      ]
    },
    {
      "cell_type": "code",
      "execution_count": null,
      "metadata": {
        "_cell_guid": "291e0bd1-40dd-536e-9b10-60dc2e81a94b",
        "_uuid": "7a863c66aadd7de732a503634399174310f9c779"
      },
      "outputs": [],
      "source": [
        "dims = (8, 10)\n",
        "fig, ax = plt.subplots(figsize=dims)\n",
        "\n",
        "ax=sns.barplot(y=index,x=values,palette='GnBu_d')\n",
        "ax.set(xlabel='Total number of Acute Care hospitals with 5 rating', ylabel='States')"
      ]
    },
    {
      "cell_type": "markdown",
      "metadata": {
        "_cell_guid": "d0a5b258-1845-7fa5-8172-8ef7c94c67c5",
        "_uuid": "88c4ee67eeaf2d17e9d3ec01ca6ff862ce9c9154"
      },
      "source": [
        "**Thus Texas leads with Acute care hospitals with 5 star rating**"
      ]
    },
    {
      "cell_type": "markdown",
      "metadata": {
        "_cell_guid": "64c9f0c1-7a56-f846-0b27-365b5db022cb",
        "_uuid": "70c5fdf7ff6d08069e8f3e6ae7891b1662b91770"
      },
      "source": [
        "# Critical Access Hospitals with 5 star rating"
      ]
    },
    {
      "cell_type": "code",
      "execution_count": null,
      "metadata": {
        "_cell_guid": "c8f54117-13bf-8eb3-d575-7ca121773ceb",
        "_uuid": "4b9aa4b8370f24d6616abc3eff8a909cfb666b69"
      },
      "outputs": [],
      "source": [
        "Critical_access_5=hospital_data.loc[(hospital_data[\"Hospital Type\"]==\"Critical Access Hospitals\") & (hospital_data[\"Hospital overall rating\"]==\"5\"),[\"State\"]]\n",
        "C_A_5=Critical_access_5['State'].value_counts()\n",
        "C_A_5\n",
        "index=C_A_5.index\n",
        "values=C_A_5.values\n",
        "values"
      ]
    },
    {
      "cell_type": "code",
      "execution_count": null,
      "metadata": {
        "_cell_guid": "7173a0aa-125a-2262-3340-cbf518738901",
        "_uuid": "d09a325098040d240746e9082c7c86bd24504421"
      },
      "outputs": [],
      "source": [
        "dims = (8, 2)\n",
        "fig, ax = plt.subplots(figsize=dims)\n",
        "\n",
        "ax=sns.barplot(y=index,x=values,palette='YlOrBr')\n",
        "ax.set(xlabel='Total number of Critical Care hospitals with 5 rating', ylabel='States')"
      ]
    },
    {
      "cell_type": "markdown",
      "metadata": {
        "_cell_guid": "57e69462-9a0b-33bf-f413-adb8e5aa02df",
        "_uuid": "c166f89edfc4117df1faeba13032379399fafbd2"
      },
      "source": [
        "**Thus there are only two states with Critical Acess hospitals each with rating as 5**"
      ]
    },
    {
      "cell_type": "markdown",
      "metadata": {
        "_cell_guid": "2f4aeee0-51f0-1e32-09b9-4f56976f5e8c",
        "_uuid": "c649c35fd65f89fc6a8bcc440358486f20201e5d"
      },
      "source": [
        "# Childrens Hospitals with 1 star rating"
      ]
    },
    {
      "cell_type": "code",
      "execution_count": null,
      "metadata": {
        "_cell_guid": "8cd86017-357c-70f3-8c28-5aa086c6334a",
        "_uuid": "007dd5f6bbb81342f1ea187d3958281ad12c3e6b"
      },
      "outputs": [],
      "source": [
        "Chidrens_5=hospital_data.loc[(hospital_data[\"Hospital Type\"]==\"Childrens\") & (hospital_data[\"Hospital overall rating\"]==\"5\"),[\"State\"]]\n",
        "C_5=Chidrens_5['State'].value_counts()\n",
        "C_5\n",
        "index=C_5.index\n",
        "values=C_5.values\n",
        "values\n",
        "index"
      ]
    },
    {
      "cell_type": "markdown",
      "metadata": {
        "_cell_guid": "c69acd45-b678-fb88-bd1c-d633a7918a2b",
        "_uuid": "6b0ad140db4436e7ef0916377ebef5304a2c0a1f"
      },
      "source": [
        "**Thus there no hospitals for childrens with 5 star rating**"
      ]
    },
    {
      "cell_type": "markdown",
      "metadata": {
        "_cell_guid": "0b2675ad-7e51-c2bb-c812-8980928447d4",
        "_uuid": "9f1c9b835db02fb49e93e14a03394eeaa6ba9432"
      },
      "source": [
        "# Which states has maximum number of 1 star rating hospitals?"
      ]
    },
    {
      "cell_type": "markdown",
      "metadata": {
        "_cell_guid": "80619b39-a65b-0194-db96-2e4b06dd8112",
        "_uuid": "6bac6937a9f8dc9b4c065c77f0d1fa5f47d87785"
      },
      "source": [
        "# Acute care hospitals with 1 star rating."
      ]
    },
    {
      "cell_type": "code",
      "execution_count": null,
      "metadata": {
        "_cell_guid": "6c78fdd2-e23f-3312-36b5-c9574c079d34",
        "_uuid": "d93487d15c10284b2bdb9dcf04cbd342aa722e49"
      },
      "outputs": [],
      "source": [
        "State_acute_1=hospital_data.loc[(hospital_data[\"Hospital Type\"]==\"Acute Care Hospitals\") & (hospital_data[\"Hospital overall rating\"]==\"1\"),[\"State\"]]\n",
        "State_acute_1.head()\n",
        "#State_acute_1['State'].unique()\n",
        "S_A_1=State_acute_1['State'].value_counts()\n",
        "index=S_A_1.index\n",
        "values=S_A_1.values\n",
        "values"
      ]
    },
    {
      "cell_type": "code",
      "execution_count": null,
      "metadata": {
        "_cell_guid": "b1aefaef-7136-57a7-3710-b6c0754aa535",
        "_uuid": "99c55122522876524cc511ee5047aa3f7f818ef5"
      },
      "outputs": [],
      "source": [
        "dims = (8, 10)\n",
        "fig, ax = plt.subplots(figsize=dims)\n",
        "\n",
        "ax=sns.barplot(y=index,x=values,palette='cubehelix')\n",
        "ax.set(xlabel='Total number of Acute Care hospitals with 1 rating', ylabel='States')"
      ]
    },
    {
      "cell_type": "markdown",
      "metadata": {
        "_cell_guid": "1da8520c-ee66-4736-d8f4-f6dc005b49c2",
        "_uuid": "91375da9a3f1fdd8a909fc7b19bcd5a73ecb6654"
      },
      "source": [
        "**New york has maximum number of Acute care hospitals with 1 star rating**"
      ]
    },
    {
      "cell_type": "markdown",
      "metadata": {
        "_cell_guid": "f8bfebe3-3def-31f6-0249-1c038caac9ac",
        "_uuid": "7f501c54e15515cbcdbe8b1898ae672f162f2844"
      },
      "source": [
        "# Critical Access Hospitals with 1 star rating"
      ]
    },
    {
      "cell_type": "code",
      "execution_count": null,
      "metadata": {
        "_cell_guid": "9363365f-1372-2967-a1ae-3800df945eda",
        "_uuid": "984700a85a5ac3dcc9fdecf0fb17279d137f58ef"
      },
      "outputs": [],
      "source": [
        "Critical_access_1=hospital_data.loc[(hospital_data[\"Hospital Type\"]==\"Critical Access Hospitals\") & (hospital_data[\"Hospital overall rating\"]==\"1\"),[\"State\"]]\n",
        "C_A_1=Critical_access_1['State'].value_counts()\n",
        "C_A_1\n",
        "index=C_A_1.index\n",
        "values=C_A_1.values\n",
        "values"
      ]
    },
    {
      "cell_type": "code",
      "execution_count": null,
      "metadata": {
        "_cell_guid": "bb005d7d-967b-d72e-d888-afc31c8d2658",
        "_uuid": "ebc8131e0b9e4d4340420fd3aec8c250a0b09aba"
      },
      "outputs": [],
      "source": [
        "dims = (8, 1)\n",
        "fig, ax = plt.subplots(figsize=dims)\n",
        "\n",
        "ax=sns.barplot(y=index,x=values,palette='Spectral')\n",
        "ax.set(xlabel='Total number of Critical Acess hospitals with 1 rating', ylabel='States')"
      ]
    },
    {
      "cell_type": "markdown",
      "metadata": {
        "_cell_guid": "142b5fb4-58fd-ff3f-81ac-d85e9f392d98",
        "_uuid": "7ce8ebbe6229577e6deab7bb646f86cb209d3626"
      },
      "source": [
        "**Thus there is only one Critical Acess hospital in USA with 1 star rating which is Kentucky.**"
      ]
    },
    {
      "cell_type": "markdown",
      "metadata": {
        "_cell_guid": "9d9e6687-dd1e-b1e7-febd-8792c196a958",
        "_uuid": "3a348ad13b6f01bcb524e397050f0faa13a87571"
      },
      "source": [
        "# Chidrens Hospitals with 1 star rating"
      ]
    },
    {
      "cell_type": "code",
      "execution_count": null,
      "metadata": {
        "_cell_guid": "0605b73e-cb1b-9c17-190a-8e4f7adaec76",
        "_uuid": "e3403c7d2201bdfa080b62cd019908da445db31c"
      },
      "outputs": [],
      "source": [
        "Chidrens_1=hospital_data.loc[(hospital_data[\"Hospital Type\"]==\"Childrens\") & (hospital_data[\"Hospital overall rating\"]==\"1\"),[\"State\"]]\n",
        "C_1=Chidrens_1['State'].value_counts()\n",
        "C_1\n",
        "index=C_1.index\n",
        "values=C_1.values\n",
        "values\n",
        "index"
      ]
    },
    {
      "cell_type": "markdown",
      "metadata": {
        "_cell_guid": "87795f37-e10d-1217-efd1-334604edb78e",
        "_uuid": "7dcdfd4637c1d4dc333f8bad471b0f55ece12d48"
      },
      "source": [
        "**Thus there no hospitals for childrens with 5 star rating**"
      ]
    },
    {
      "cell_type": "markdown",
      "metadata": {
        "_cell_guid": "b53edbdd-f04a-f8a8-f7ca-558b6bc5af7a",
        "_uuid": "aa248871b78746978d69013cd35c21e6da95dcc8"
      },
      "source": [
        "### Checking which hospital types are more common"
      ]
    },
    {
      "cell_type": "code",
      "execution_count": null,
      "metadata": {
        "_cell_guid": "010b6058-8e79-d81c-548b-76bf4c6ac2df",
        "_uuid": "1604f20bbc1c0ca834123a56c0c9cf1327d0bffd"
      },
      "outputs": [],
      "source": [
        "unique_hospital_type=hospital_data['Hospital Type'].unique()\n",
        "#hospital_data['Hospital Type'].count()"
      ]
    },
    {
      "cell_type": "code",
      "execution_count": null,
      "metadata": {
        "_cell_guid": "db9b9cc8-52a7-a442-8b52-0e910b66ea87",
        "_uuid": "4ae4756fe712db031ec90135f7df5d4feee170d9"
      },
      "outputs": [],
      "source": [
        "hospital_type=hospital_data.loc[hospital_data['Hospital Type']=='Acute Care Hospitals']\n",
        "Acute_care=hospital_type['Hospital Type'].count()\n",
        "\n",
        "hospital_type=hospital_data.loc[hospital_data['Hospital Type']=='Critical Access Hospitals']\n",
        "Critical_Acess=hospital_type['Hospital Type'].count()\n",
        "\n",
        "hospital_type=hospital_data.loc[hospital_data['Hospital Type']=='Childrens']\n",
        "Childrens=hospital_type['Hospital Type'].count()\n",
        "list=[Acute_care,Critical_Acess,Childrens]\n",
        "list"
      ]
    },
    {
      "cell_type": "code",
      "execution_count": null,
      "metadata": {
        "_cell_guid": "077bf8be-af70-eaf2-b875-f6c7a8ff3873",
        "_uuid": "88514f17c66545e6726a56e4123b07b040c7afc4"
      },
      "outputs": [],
      "source": [
        "ax=sns.barplot(x=unique_hospital_type,y=list,data=hospital_data,palette='colorblind')\n",
        "ax.set(xlabel='Types of hospitals', ylabel='Number of  hospitals')"
      ]
    },
    {
      "cell_type": "markdown",
      "metadata": {
        "_cell_guid": "edb7516d-ca1d-fd2d-8a38-868e00714565",
        "_uuid": "87e702d114afb782dd7f91eda24d7a7a5fea24ac"
      },
      "source": [
        "###Thus there are large number of Acute Care Hospitals followed by Critical Acess Hospitals.Childrens hospitals are very rare."
      ]
    },
    {
      "cell_type": "markdown",
      "metadata": {
        "_cell_guid": "e3566adc-6083-b9e8-183f-3863bef1ada7",
        "_uuid": "4aa229234135834a9424c4fa206ae4fe0463f99d"
      },
      "source": [
        "# The average hospital rating, by state"
      ]
    },
    {
      "cell_type": "code",
      "execution_count": null,
      "metadata": {
        "_cell_guid": "77afa962-3be4-8eb7-6847-d3cd9f389215",
        "_uuid": "4b65e877fb0e068c622dc19c323dae02f2db3a46"
      },
      "outputs": [],
      "source": [
        "hospital_data['Hospital overall rating'].unique()"
      ]
    },
    {
      "cell_type": "code",
      "execution_count": null,
      "metadata": {
        "_cell_guid": "3a7d23c7-c9d7-0cf6-0d19-76e4484c42a9",
        "_uuid": "384cd4b27079fbb739b87c7adeec0cd8dab90c35"
      },
      "outputs": [],
      "source": [
        "clean_hospital_data=hospital_data.drop(hospital_data[hospital_data['Hospital overall rating']=='Not Available'].index)\n",
        "#clean_hospital_data['Hospital overall rating'].astype(float)\n",
        "clean_hospital_data['Hospital overall rating'].unique()"
      ]
    },
    {
      "cell_type": "markdown",
      "metadata": {
        "_cell_guid": "f488d1c3-ca83-302a-ea36-06878ba2cfaa",
        "_uuid": "9faa3a076f6c945fc6ed99658636d6ccad2279e3"
      },
      "source": [
        "### Converting it to float data type for calculation"
      ]
    },
    {
      "cell_type": "code",
      "execution_count": null,
      "metadata": {
        "_cell_guid": "73bc21de-37de-961a-3376-68d3f707e537",
        "_uuid": "7fc626263c77d4a8ce7e54677a74a7fb62927040"
      },
      "outputs": [],
      "source": [
        "clean_hospital_data['Hospital overall rating']=clean_hospital_data['Hospital overall rating'].astype(float)"
      ]
    },
    {
      "cell_type": "code",
      "execution_count": null,
      "metadata": {
        "_cell_guid": "bd5bee2c-2a30-70fd-4e0a-bb9c6a39f8f6",
        "_uuid": "bee96f2185f8e3c50f13cda125007900b9fdbb16"
      },
      "outputs": [],
      "source": [
        "clean_hospital_data['Hospital overall rating'].mean()\n",
        "clean_hospital_data['Hospital overall rating'].count()"
      ]
    },
    {
      "cell_type": "code",
      "execution_count": null,
      "metadata": {
        "_cell_guid": "82bd30fd-dbe5-fce4-638d-d4649e0cfee4",
        "_uuid": "f3db0b459f30a49873e0ede10a1085aad5bc9a1d"
      },
      "outputs": [],
      "source": [
        "Statewise_avarage_rating=clean_hospital_data.groupby('State')['Hospital overall rating'].mean()\n",
        "#Statewise_avarage_rating.sort_values(ascending=False)"
      ]
    },
    {
      "cell_type": "markdown",
      "metadata": {
        "_cell_guid": "5ca91327-1ac8-4e67-290f-c38d28786841",
        "_uuid": "61c261389b3276c2bf0244676b95ee5c79f2e1d6"
      },
      "source": [
        "### Separating index and values"
      ]
    },
    {
      "cell_type": "code",
      "execution_count": null,
      "metadata": {
        "_cell_guid": "75cf6aa8-9183-ac63-c375-5fdb732beb97",
        "_uuid": "233877f42f03a456d632a1979db3c71761ac69ec"
      },
      "outputs": [],
      "source": [
        "index=Statewise_avarage_rating.sort_values(ascending=False).index\n",
        "values=Statewise_avarage_rating.sort_values(ascending=False).values\n",
        "#index\n",
        "#values"
      ]
    },
    {
      "cell_type": "code",
      "execution_count": null,
      "metadata": {
        "_cell_guid": "76f7710b-9c8e-c883-2ee3-c8cdbef1b13e",
        "_uuid": "a58626ac1cdfb88b1c6ecadadea2e1e0298b5d90"
      },
      "outputs": [],
      "source": [
        "a4_dims = (8, 10)\n",
        "fig, ax = plt.subplots(figsize=a4_dims)\n",
        "\n",
        "ax=sns.barplot(y=index,x=values)\n",
        "ax.set(xlabel='Average rating of the hospitals', ylabel='State')"
      ]
    },
    {
      "cell_type": "markdown",
      "metadata": {
        "_cell_guid": "9dd29f15-7c51-6907-f292-e1e5c472cec8",
        "_uuid": "4e76bebf8296ae956cb7a47945a4f10d1033903e"
      },
      "source": [
        "**Thus South Dacota has the best average rating of the hospitals.District of columbia has the worst average rating.**"
      ]
    },
    {
      "cell_type": "markdown",
      "metadata": {
        "_cell_guid": "9607c0d7-c6b7-700e-5546-eab5002f132a",
        "_uuid": "4fd24bc141ce32009a303d51675403e080423499"
      },
      "source": [
        "# Let us check which types of hospitals are more likely to have not submitted proper data"
      ]
    },
    {
      "cell_type": "markdown",
      "metadata": {
        "_cell_guid": "a4e589bd-1613-c7b3-0175-69cd94983c88",
        "_uuid": "f7b805c29816df61d06b306ec735e29758e0071b"
      },
      "source": [
        "###  Which type of hospitals has highest Non-availabilty of Mortality comparison data?"
      ]
    },
    {
      "cell_type": "code",
      "execution_count": null,
      "metadata": {
        "_cell_guid": "ebe59249-c8a3-022c-e1ba-f99ebc2a9d05",
        "_uuid": "4f4581e9764aa030b45107b20c2477a5a1fcd619"
      },
      "outputs": [],
      "source": [
        "Mortality_NotAvailable=hospital_data.loc[hospital_data['Mortality national comparison']=='Not Available']\n",
        "Mortality_NotAvailable['Mortality national comparison'].count()"
      ]
    },
    {
      "cell_type": "code",
      "execution_count": null,
      "metadata": {
        "_cell_guid": "5283a712-85fd-5d44-a43f-93b2c84c3cfb",
        "_uuid": "224b1f640e177ce2f17b6d01acd2cde120c39a83"
      },
      "outputs": [],
      "source": [
        "Non_available_data=Mortality_NotAvailable.groupby('Hospital Type')['Mortality national comparison'].count()\n",
        "#Non_available_data\n",
        "Non_available_data.sort_values(ascending=False)"
      ]
    },
    {
      "cell_type": "code",
      "execution_count": null,
      "metadata": {
        "_cell_guid": "02d5b52e-ae0c-c1cb-d687-b60a29bea9f9",
        "_uuid": "f3b135ac6c48fa37616754ed73c651316026639c"
      },
      "outputs": [],
      "source": [
        "index=Non_available_data.sort_values(ascending=False).index\n",
        "values=Non_available_data.sort_values(ascending=False).values\n",
        "#index\n",
        "#values"
      ]
    },
    {
      "cell_type": "code",
      "execution_count": null,
      "metadata": {
        "_cell_guid": "05216b03-eb33-7d81-34ab-282c0e4ba92d",
        "_uuid": "971eba1fbeab835189df495c506b991684345668"
      },
      "outputs": [],
      "source": [
        "dims = (6, 6)\n",
        "fig, ax = plt.subplots(figsize=dims)\n",
        "\n",
        "ax=sns.barplot(y=values,x=index,palette='PiYG')\n",
        "ax.set(xlabel='Hospitals types', ylabel='Count of Mortality data Non-Availabilty') "
      ]
    },
    {
      "cell_type": "markdown",
      "metadata": {
        "_cell_guid": "abccca6f-f810-55aa-6db1-2cb642ecf7b3",
        "_uuid": "844b4265d92ca61598b627f6acbf73564cea6ef3"
      },
      "source": [
        "**Thus Critical Acess hospitals has highest Non-availabilty of mortality comparison of the data and chidrens hospitals has minimum.**"
      ]
    },
    {
      "cell_type": "markdown",
      "metadata": {
        "_cell_guid": "6bfe6803-6012-607b-2b85-0fb837f7ca24",
        "_uuid": "ca911c716e58bd6534ded5b57418b4298893733f"
      },
      "source": [
        "# Which type of hospitals has highest Non-availabilty of Safety of Care data?"
      ]
    },
    {
      "cell_type": "code",
      "execution_count": null,
      "metadata": {
        "_cell_guid": "0cdb39be-d109-112f-959e-bf8402215341",
        "_uuid": "118635742855dd54203f88464e0c152017db9e4a"
      },
      "outputs": [],
      "source": [
        "SafetyOfCare_NotAvailable=hospital_data.loc[hospital_data['Safety of care national comparison']=='Not Available']\n",
        "SafetyOfCare_NotAvailable['Safety of care national comparison'].count()"
      ]
    },
    {
      "cell_type": "code",
      "execution_count": null,
      "metadata": {
        "_cell_guid": "57efc21b-f1cc-c9dd-c19e-5059dd1bccb8",
        "_uuid": "95146ee63d05c3fdcb23045cf4375869ce84c55d"
      },
      "outputs": [],
      "source": [
        "SafetyOfCare_NotAvailable=hospital_data.loc[hospital_data['Safety of care national comparison']=='Not Available']\n",
        "SafetyOfCare_NotAvailable['Safety of care national comparison'].count()\n",
        "Non_available_data=SafetyOfCare_NotAvailable.groupby('Hospital Type')['Safety of care national comparison'].count()\n",
        "#Non_available_data\n",
        "Non_available_data.sort_values(ascending=False)\n",
        "index=Non_available_data.sort_values(ascending=False).index\n",
        "values=Non_available_data.sort_values(ascending=False).values"
      ]
    },
    {
      "cell_type": "code",
      "execution_count": null,
      "metadata": {
        "_cell_guid": "32bc3e84-ab29-e820-29f9-e1aa83d53ca9",
        "_uuid": "1b57bb408ef82ed1c473be74d326be56c55d39ab"
      },
      "outputs": [],
      "source": [
        "dims = (6, 6)\n",
        "fig, ax = plt.subplots(figsize=dims)\n",
        "\n",
        "ax=sns.barplot(y=values,x=index,palette='BrBG')\n",
        "ax.set(xlabel='Hospital Types ', ylabel='Count of Safety of care data Non-Availabilty')"
      ]
    },
    {
      "cell_type": "markdown",
      "metadata": {
        "_cell_guid": "6e98ea92-ea7e-71dd-343d-1fd86f702f7a",
        "_uuid": "095e5bf544972718b549c52f616150923b43fdff"
      },
      "source": [
        "# Which type of hospitals has highest Non-availabilty of Readmission national comparison data?"
      ]
    },
    {
      "cell_type": "code",
      "execution_count": null,
      "metadata": {
        "_cell_guid": "30f93838-2ecb-434c-7fa1-92f57637653b",
        "_uuid": "530d36f1692e60e87558b9992eb5abcec2e21d9a"
      },
      "outputs": [],
      "source": [
        "Readmission_NotAvailable=hospital_data.loc[hospital_data['Readmission national comparison']=='Not Available']\n",
        "Readmission_NotAvailable['Readmission national comparison'].count()\n",
        "Non_available_data=Readmission_NotAvailable.groupby('Hospital Type')['Readmission national comparison'].count()\n",
        "#Non_available_data\n",
        "Non_available_data.sort_values(ascending=False)\n",
        "index=Non_available_data.sort_values(ascending=False).index\n",
        "values=Non_available_data.sort_values(ascending=False).values\n",
        "#index\n",
        "#values"
      ]
    },
    {
      "cell_type": "code",
      "execution_count": null,
      "metadata": {
        "_cell_guid": "5f919bc7-2f8c-ae85-f997-32222e7aa99d",
        "_uuid": "b9371379555bd7b44b0f54eed9d2798e2d154573"
      },
      "outputs": [],
      "source": [
        "dims = (6, 7)\n",
        "fig, ax = plt.subplots(figsize=dims)\n",
        "\n",
        "ax=sns.barplot(y=values,x=index,palette='RdYlGn')\n",
        "ax.set(xlabel='Hospital Types ', ylabel='Count of Readmission data Non-Availabilty')"
      ]
    },
    {
      "cell_type": "markdown",
      "metadata": {
        "_cell_guid": "9cc260c0-8a00-2021-ba9c-9412d30fd2c4",
        "_uuid": "af929dfcba3cd9c2fe68bc240c548cb2007faf15"
      },
      "source": [
        "**Similarly there are few more columns which we can take into consideration**"
      ]
    },
    {
      "cell_type": "code",
      "execution_count": null,
      "metadata": {
        "_cell_guid": "b932d3b0-9224-b5c4-1be4-e70f173beb2d",
        "_uuid": "770f92bcc24640e7ef26479a404de9f5c2714b28"
      },
      "outputs": [],
      "source": [
        "#Still Working"
      ]
    }
  ],
  "metadata": {
    "_change_revision": 0,
    "_is_fork": false,
    "kernelspec": {
      "display_name": "Python 3",
      "language": "python",
      "name": "python3"
    },
    "language_info": {
      "codemirror_mode": {
        "name": "ipython",
        "version": 3
      },
      "file_extension": ".py",
      "mimetype": "text/x-python",
      "name": "python",
      "nbconvert_exporter": "python",
      "pygments_lexer": "ipython3",
      "version": "3.6.0"
    }
  },
  "nbformat": 4,
  "nbformat_minor": 0
}