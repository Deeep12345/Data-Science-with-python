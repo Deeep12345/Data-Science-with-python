{
  "metadata": {
    "kernelspec": {
      "name": "python"
    },
    "language_info": {
      "name": "python",
      "version": "3.5.1"
    }
  },
  "nbformat": 4,
  "nbformat_minor": 0,
  "cells": [
    {
      "cell_type": "markdown",
      "source": "Here I m going to run **Support Vector machine** with different **kernels(linear,gaussian,polynomial)** and also tune the various parameters such as **C** ,**gamma** and **degree** to find out the best performing model .",
      "metadata": {}
    },
    {
      "cell_type": "code",
      "source": "# This Python 3 environment comes with many helpful analytics libraries installed\n# It is defined by the kaggle/python docker image: https://github.com/kaggle/docker-python\n# For example, here's several helpful packages to load in \n\n\n# Input data files are available in the \"../input/\" directory.\n# For example, running this (by clicking run or pressing Shift+Enter) will list the files in the input directory\n\nfrom subprocess import check_output\nprint(check_output([\"ls\", \"../input\"]).decode(\"utf8\"))\n\n# Any results you write to the current directory are saved as output.",
      "execution_count": null,
      "outputs": [],
      "metadata": {}
    },
    {
      "cell_type": "markdown",
      "source": "# Importing all the necessary libraries",
      "metadata": {}
    },
    {
      "cell_type": "code",
      "source": "import pandas as pd\nimport numpy as np\nimport seaborn as sns\n\nimport matplotlib.pyplot as plt\n\n%matplotlib inline",
      "execution_count": null,
      "outputs": [],
      "metadata": {}
    },
    {
      "cell_type": "markdown",
      "source": "# Reading the comma separated values file into the dataframe",
      "metadata": {}
    },
    {
      "cell_type": "code",
      "source": "df = pd.read_csv('../input/voice.csv')\ndf.head()",
      "execution_count": null,
      "outputs": [],
      "metadata": {}
    },
    {
      "cell_type": "markdown",
      "source": "# Checking the correlation between each feature",
      "metadata": {}
    },
    {
      "cell_type": "code",
      "source": "df.corr()",
      "execution_count": null,
      "outputs": [],
      "metadata": {}
    },
    {
      "cell_type": "markdown",
      "source": "# Checking whether there is any null values ",
      "metadata": {}
    },
    {
      "cell_type": "code",
      "source": "df.isnull().sum()",
      "execution_count": null,
      "outputs": [],
      "metadata": {}
    },
    {
      "cell_type": "code",
      "source": "df.shape",
      "execution_count": null,
      "outputs": [],
      "metadata": {}
    },
    {
      "cell_type": "code",
      "source": "print(\"Total number of labels: {}\".format(df.shape[0]))\nprint(\"Number of male: {}\".format(df[df.label == 'male'].shape[0]))\nprint(\"Number of female: {}\".format(df[df.label == 'female'].shape[0]))",
      "execution_count": null,
      "outputs": [],
      "metadata": {}
    },
    {
      "cell_type": "markdown",
      "source": "Thus we can see there are equal number of male and female labels",
      "metadata": {}
    },
    {
      "cell_type": "code",
      "source": "df.shape",
      "execution_count": null,
      "outputs": [],
      "metadata": {}
    },
    {
      "cell_type": "markdown",
      "source": "There are 21 features and 3168 instances.",
      "metadata": {}
    },
    {
      "cell_type": "markdown",
      "source": "# Separating features and labels",
      "metadata": {}
    },
    {
      "cell_type": "code",
      "source": "X=df.iloc[:, :-1]\nX.head()",
      "execution_count": null,
      "outputs": [],
      "metadata": {}
    },
    {
      "cell_type": "markdown",
      "source": "# Converting string value to int type for labels",
      "metadata": {}
    },
    {
      "cell_type": "code",
      "source": "from sklearn.preprocessing import LabelEncoder\ny=df.iloc[:,-1]\n\n# Encode label category\n# male -> 1\n# female -> 0\n\ngender_encoder = LabelEncoder()\ny = gender_encoder.fit_transform(y)\ny",
      "execution_count": null,
      "outputs": [],
      "metadata": {}
    },
    {
      "cell_type": "markdown",
      "source": "# Data Standardisation\nStandardization refers to shifting the distribution of each attribute to have a mean of zero and a standard deviation of one (unit variance). It is useful to standardize attributes for a model. Standardization of datasets is a common requirement for many machine learning estimators implemented in scikit-learn; they might behave badly if the individual features do not more or less look like standard normally distributed data.",
      "metadata": {}
    },
    {
      "cell_type": "code",
      "source": "# Scale the data to be between -1 and 1\nfrom sklearn.preprocessing import StandardScaler\nscaler = StandardScaler()\nscaler.fit(X)\nX = scaler.transform(X)",
      "execution_count": null,
      "outputs": [],
      "metadata": {}
    },
    {
      "cell_type": "markdown",
      "source": "# Splitting dataset into training set and testing set for better generalisation",
      "metadata": {}
    },
    {
      "cell_type": "code",
      "source": "from sklearn.model_selection import train_test_split\nX_train, X_test, y_train, y_test = train_test_split(X, y, test_size=0.2, random_state=1)",
      "execution_count": null,
      "outputs": [],
      "metadata": {}
    },
    {
      "cell_type": "markdown",
      "source": "# Running SVM with default hyperparameter.",
      "metadata": {}
    },
    {
      "cell_type": "code",
      "source": "from sklearn.svm import SVC\nfrom sklearn import metrics\nsvc=SVC() #Default hyperparameters\nsvc.fit(X_train,y_train)\ny_pred=svc.predict(X_test)\nprint('Accuracy Score:')\nprint(metrics.accuracy_score(y_test,y_pred))",
      "execution_count": null,
      "outputs": [],
      "metadata": {}
    },
    {
      "cell_type": "markdown",
      "source": "# Default Linear kernel",
      "metadata": {}
    },
    {
      "cell_type": "code",
      "source": "svc=SVC(kernel='linear')\nsvc.fit(X_train,y_train)\ny_pred=svc.predict(X_test)\nprint('Accuracy Score:')\nprint(metrics.accuracy_score(y_test,y_pred))",
      "execution_count": null,
      "outputs": [],
      "metadata": {}
    },
    {
      "cell_type": "markdown",
      "source": "# Default RBF kernel",
      "metadata": {}
    },
    {
      "cell_type": "code",
      "source": "svc=SVC(kernel='rbf')\nsvc.fit(X_train,y_train)\ny_pred=svc.predict(X_test)\nprint('Accuracy Score:')\nprint(metrics.accuracy_score(y_test,y_pred))",
      "execution_count": null,
      "outputs": [],
      "metadata": {}
    },
    {
      "cell_type": "markdown",
      "source": "We can conclude from above that svm by default uses **rbf** kernel as a parameter for kernel",
      "metadata": {}
    },
    {
      "cell_type": "markdown",
      "source": "# Default Polynomial kernel",
      "metadata": {}
    },
    {
      "cell_type": "code",
      "source": "svc=SVC(kernel='poly')\nsvc.fit(X_train,y_train)\ny_pred=svc.predict(X_test)\nprint('Accuracy Score:')\nprint(metrics.accuracy_score(y_test,y_pred))",
      "execution_count": null,
      "outputs": [],
      "metadata": {}
    },
    {
      "cell_type": "markdown",
      "source": "Polynomial kernel is performing poorly.The reason behind this maybe it is overfitting the training dataset",
      "metadata": {}
    },
    {
      "cell_type": "markdown",
      "source": "# Performing K-fold cross validation with different kernels",
      "metadata": {}
    },
    {
      "cell_type": "markdown",
      "source": "# CV on Linear kernel",
      "metadata": {}
    },
    {
      "cell_type": "code",
      "source": "from sklearn.cross_validation import cross_val_score\nsvc=SVC(kernel='linear')\nscores = cross_val_score(svc, X, y, cv=10, scoring='accuracy') #cv is cross validation\nprint(scores)",
      "execution_count": null,
      "outputs": [],
      "metadata": {}
    },
    {
      "cell_type": "markdown",
      "source": "We can see above how the accuracy score is different everytime.This shows that accuracy score depends upon how the datasets got split.",
      "metadata": {}
    },
    {
      "cell_type": "code",
      "source": "print(scores.mean())",
      "execution_count": null,
      "outputs": [],
      "metadata": {}
    },
    {
      "cell_type": "markdown",
      "source": "In K-fold cross validation we generally take the mean of all the scores.",
      "metadata": {}
    },
    {
      "cell_type": "markdown",
      "source": "# CV on rbf kernel",
      "metadata": {}
    },
    {
      "cell_type": "code",
      "source": "from sklearn.cross_validation import cross_val_score\nsvc=SVC(kernel='rbf')\nscores = cross_val_score(svc, X, y, cv=10, scoring='accuracy') #cv is cross validation\nprint(scores)",
      "execution_count": null,
      "outputs": [],
      "metadata": {}
    },
    {
      "cell_type": "code",
      "source": "print(scores.mean())",
      "execution_count": null,
      "outputs": [],
      "metadata": {}
    },
    {
      "cell_type": "markdown",
      "source": "# CV on Polynomial kernel",
      "metadata": {}
    },
    {
      "cell_type": "code",
      "source": "from sklearn.cross_validation import cross_val_score\nsvc=SVC(kernel='poly')\nscores = cross_val_score(svc, X, y, cv=10, scoring='accuracy') #cv is cross validation\nprint(scores)",
      "execution_count": null,
      "outputs": [],
      "metadata": {}
    },
    {
      "cell_type": "code",
      "source": "print(scores.mean())",
      "execution_count": null,
      "outputs": [],
      "metadata": {}
    },
    {
      "cell_type": "markdown",
      "source": "**When K-fold cross validation is done we can see different score in each iteration.This happens because when we use train_test_split method,the dataset get split in random manner into testing and training dataset.Thus it depends on how the dataset got split and which samples are training set and which samples are in testing set.**\n\n**With K-fold cross validation we can see that the dataset got split into 10 equal parts thus covering all the data into training as well into testing set.This is the reason we got 10 different accuracy score.**",
      "metadata": {}
    },
    {
      "cell_type": "markdown",
      "source": "### Taking all the values of C and checking out the accuracy score with kernel as linear.",
      "metadata": {}
    },
    {
      "cell_type": "markdown",
      "source": "**The C parameter tells the SVM optimization how much you want to avoid misclassifying each training example. For large values of C, the optimization will choose a smaller-margin hyperplane if that hyperplane does a better job of getting all the training points classified correctly. Conversely, a very small value of C will cause the optimizer to look for a larger-margin separating hyperplane, even if that hyperplane misclassifies more points.**\n\n**Thus for a very large values we can cause overfitting of the model and for a very small value of C we can cause underfitting.Thus the value of C must be chosen in such a manner that it generalised the unseen data well**",
      "metadata": {}
    },
    {
      "cell_type": "code",
      "source": "C_range=list(range(1,26))\nacc_score=[]\nfor c in C_range:\n    svc = SVC(kernel='linear', C=c)\n    svc.fit(X_train,y_train)\n    y_pred=svc.predict(X_test)\n    acc_score.append(metrics.accuracy_score(y_test,y_pred))\nprint(acc_score)    ",
      "execution_count": null,
      "outputs": [],
      "metadata": {}
    },
    {
      "cell_type": "code",
      "source": "import matplotlib.pyplot as plt\n%matplotlib inline\n\n\nC_values=list(range(1,26))\n# plot the value of C for SVM (x-axis) versus the cross-validated accuracy (y-axis)\nplt.plot(C_values,acc_score)\nplt.xlabel('Value of C for SVC')\nplt.ylabel('Cross-Validated Accuracy')",
      "execution_count": null,
      "outputs": [],
      "metadata": {}
    },
    {
      "cell_type": "markdown",
      "source": "**From the above plot we can see that accuracy has been close to 97.8% for C=1 and then it drops below 97.65% and remains constant.Thus we can conclude that C=1 is the best hyperparameter for linear kernel.**",
      "metadata": {}
    },
    {
      "cell_type": "markdown",
      "source": "### Let us look into more detail of what is the exact value of C which is giving us a good accuracy score",
      "metadata": {}
    },
    {
      "cell_type": "code",
      "source": "C_range=list(np.arange(0.1,2,0.1))\nacc_score=[]\nfor c in C_range:\n    svc = SVC(kernel='linear', C=c)\n    svc.fit(X_train,y_train)\n    y_pred=svc.predict(X_test)\n    acc_score.append(metrics.accuracy_score(y_test,y_pred))\nprint(acc_score)    ",
      "execution_count": null,
      "outputs": [],
      "metadata": {}
    },
    {
      "cell_type": "code",
      "source": "import matplotlib.pyplot as plt\n%matplotlib inline\n\nC_values=list(np.arange(0.1,2,0.1))\n# plot the value of C for SVM (x-axis) versus the cross-validated accuracy (y-axis)\nplt.plot(C_values,acc_score)\nplt.xticks(np.arange(0.0,2,0.1))\nplt.xlabel('Value of C for SVC ')\nplt.ylabel('Cross-Validated Accuracy')",
      "execution_count": null,
      "outputs": [],
      "metadata": {}
    },
    {
      "cell_type": "markdown",
      "source": "### Accuracy score is highest for C=0.9 and C= 1.0",
      "metadata": {}
    },
    {
      "cell_type": "markdown",
      "source": "### Taking kernel as **rbf** and taking different values gamma",
      "metadata": {}
    },
    {
      "cell_type": "markdown",
      "source": "**Technically, the gamma parameter is the inverse of the standard deviation of the RBF kernel (Gaussian function), which is used as similarity measure between two points. Intuitively, a small gamma value define a Gaussian function with a large variance. In this case, two points can be considered similar even if are far from each other. In the other hand, a large gamma value means define a Gaussian function with a small variance and in this case, two points are considered similar just if they are close to each other**",
      "metadata": {}
    },
    {
      "cell_type": "code",
      "source": "gamma_range=[0.0001,0.001,0.01,0.1,1,10,100]\nacc_score=[]\nfor g in gamma_range:\n    svc = SVC(kernel='rbf', gamma=g)\n    svc.fit(X_train,y_train)\n    y_pred=svc.predict(X_test)\n    acc_score.append(metrics.accuracy_score(y_test,y_pred))  \nprint(acc_score)        ",
      "execution_count": null,
      "outputs": [],
      "metadata": {}
    },
    {
      "cell_type": "code",
      "source": "import matplotlib.pyplot as plt\n%matplotlib inline\n\ngamma_range=[0.0001,0.001,0.01,0.1,1,10,100]\n\n# plot the value of C for SVM (x-axis) versus the cross-validated accuracy (y-axis)\nplt.plot(gamma_range,acc_score)\nplt.xlabel('Value of gamma for SVC ')\nplt.xticks(np.arange(0.0001,100,5))\nplt.ylabel('Cross-Validated Accuracy')",
      "execution_count": null,
      "outputs": [],
      "metadata": {}
    },
    {
      "cell_type": "markdown",
      "source": "**We can see that for gamma=10 and 100 the kernel is performing poorly.We can also see a slight dip in accuracy score when C is 1.Let us look into more details for the range 0.0001 to 0.1.**",
      "metadata": {}
    },
    {
      "cell_type": "code",
      "source": "gamma_range=[0.0001,0.001,0.01,0.1]\nacc_score=[]\nfor g in gamma_range:\n    svc = SVC(kernel='rbf', gamma=g)\n    svc.fit(X_train,y_train)\n    y_pred=svc.predict(X_test)\n    acc_score.append(metrics.accuracy_score(y_test,y_pred))  \nprint(acc_score)        ",
      "execution_count": null,
      "outputs": [],
      "metadata": {}
    },
    {
      "cell_type": "code",
      "source": "import matplotlib.pyplot as plt\n%matplotlib inline\n\ngamma_range=[0.0001,0.001,0.01,0.1]\n\n# plot the value of C for SVM (x-axis) versus the cross-validated accuracy (y-axis)\nplt.plot(gamma_range,acc_score)\nplt.xlabel('Value of gamma for SVC ')\nplt.ylabel('Cross-Validated Accuracy')",
      "execution_count": null,
      "outputs": [],
      "metadata": {}
    },
    {
      "cell_type": "markdown",
      "source": "The score increases steadily till 0.1 and then decreases when gamma=1.Thus Gamma should be around 0.1.",
      "metadata": {}
    },
    {
      "cell_type": "markdown",
      "source": "Let us look into more detail for gamma values",
      "metadata": {}
    },
    {
      "cell_type": "code",
      "source": "gamma_range=[0.1,0.2,0.3,0.4,0.5]\nacc_score=[]\nfor g in gamma_range:\n    svc = SVC(kernel='rbf', gamma=g)\n    svc.fit(X_train,y_train)\n    y_pred=svc.predict(X_test)\n    acc_score.append(metrics.accuracy_score(y_test,y_pred))  \nprint(acc_score)        ",
      "execution_count": null,
      "outputs": [],
      "metadata": {}
    },
    {
      "cell_type": "code",
      "source": "import matplotlib.pyplot as plt\n%matplotlib inline\n\ngamma_range=[0.1,0.2,0.3,0.4,0.5]\n\n# plot the value of C for SVM (x-axis) versus the cross-validated accuracy (y-axis)\nplt.plot(gamma_range,acc_score)\nplt.xlabel('Value of gamma for SVC ')\nplt.ylabel('Cross-Validated Accuracy')",
      "execution_count": null,
      "outputs": [],
      "metadata": {}
    },
    {
      "cell_type": "markdown",
      "source": "**We can see there is constant decrease in the accuracy score as gamma value increase.Thus gamma=0.1 is the best parameter.**",
      "metadata": {}
    },
    {
      "cell_type": "markdown",
      "source": "# Taking polynomial kernel with different degree",
      "metadata": {}
    },
    {
      "cell_type": "code",
      "source": "degree=[2,3,4,5,6]\nacc_score=[]\nfor d in degree:\n    svc = SVC(kernel='poly', degree=d)\n    svc.fit(X_train,y_train)\n    y_pred=svc.predict(X_test)\n    acc_score.append(metrics.accuracy_score(y_test,y_pred))  \nprint(acc_score)        ",
      "execution_count": null,
      "outputs": [],
      "metadata": {}
    },
    {
      "cell_type": "code",
      "source": "import matplotlib.pyplot as plt\n%matplotlib inline\n\ndegree=[2,3,4,5,6]\n\n# plot the value of C for SVM (x-axis) versus the cross-validated accuracy (y-axis)\nplt.plot(degree,acc_score,color='r')\nplt.xlabel('degrees for SVC ')\nplt.ylabel('Cross-Validated Accuracy')",
      "execution_count": null,
      "outputs": [],
      "metadata": {}
    },
    {
      "cell_type": "markdown",
      "source": "**Score is high for third degree polynomial and then there is drop in the accuracy score as degree of polynomial increases.Thus increase in polynomial degree results in high complexity of the model and thus causes overfitting.**",
      "metadata": {}
    },
    {
      "cell_type": "markdown",
      "source": "# Now performing SVM by taking hyperparameter C=1 and kernel as linear \n\n\n----------",
      "metadata": {}
    },
    {
      "cell_type": "code",
      "source": "from sklearn.svm import SVC\nsvc= SVC(kernel='linear',C=1)\nsvc.fit(X_train,y_train)\ny_predict=svc.predict(X_test)\naccuracy_score= metrics.accuracy_score(y_test,y_predict)\nprint(accuracy_score)",
      "execution_count": null,
      "outputs": [],
      "metadata": {}
    },
    {
      "cell_type": "markdown",
      "source": "# With K-fold cross validation(where K=10)",
      "metadata": {}
    },
    {
      "cell_type": "code",
      "source": "from sklearn.cross_validation import cross_val_score\nsvc=SVC(kernel='linear',C=1)\nscores = cross_val_score(svc, X, y, cv=10, scoring='accuracy')\nprint(scores)",
      "execution_count": null,
      "outputs": [],
      "metadata": {}
    },
    {
      "cell_type": "markdown",
      "source": "Taking the mean of all the scores",
      "metadata": {}
    },
    {
      "cell_type": "code",
      "source": "print(scores.mean())",
      "execution_count": null,
      "outputs": [],
      "metadata": {}
    },
    {
      "cell_type": "markdown",
      "source": "The accuracy is slightly good without K-fold cross validation but it may fail to generalise the unseen data.Hence it is advisable to perform K-fold cross validation where all the data is covered so it may predict unseen data well.",
      "metadata": {}
    },
    {
      "cell_type": "markdown",
      "source": "# Now performing SVM by taking hyperparameter gamma=0.1 and kernel as rbf",
      "metadata": {}
    },
    {
      "cell_type": "code",
      "source": "from sklearn.svm import SVC\nsvc= SVC(kernel='rbf',gamma=0.1)\nsvc.fit(X_train,y_train)\ny_predict=svc.predict(X_test)\nmetrics.accuracy_score(y_test,y_predict)",
      "execution_count": null,
      "outputs": [],
      "metadata": {}
    },
    {
      "cell_type": "markdown",
      "source": "# With K-fold cross validation(where K=10)",
      "metadata": {}
    },
    {
      "cell_type": "code",
      "source": "svc=SVC(kernel='linear',gamma=0.1)\nscores = cross_val_score(svc, X, y, cv=10, scoring='accuracy')\nprint(scores)\nprint(scores.mean())",
      "execution_count": null,
      "outputs": [],
      "metadata": {}
    },
    {
      "cell_type": "markdown",
      "source": "# Now performing SVM by taking hyperparameter degree=3 and kernel as poly",
      "metadata": {}
    },
    {
      "cell_type": "code",
      "source": "from sklearn.svm import SVC\nsvc= SVC(kernel='poly',degree=3)\nsvc.fit(X_train,y_train)\ny_predict=svc.predict(X_test)\naccuracy_score= metrics.accuracy_score(y_test,y_predict)\nprint(accuracy_score)",
      "execution_count": null,
      "outputs": [],
      "metadata": {}
    },
    {
      "cell_type": "markdown",
      "source": "# With K-fold cross validation(where K=10)",
      "metadata": {}
    },
    {
      "cell_type": "code",
      "source": "svc=SVC(kernel='poly',C=0.1,degree=3)\nscores = cross_val_score(svc, X, y, cv=10, scoring='accuracy')\nprint(scores)\nprint(scores.mean())",
      "execution_count": null,
      "outputs": [],
      "metadata": {}
    },
    {
      "cell_type": "markdown",
      "source": "#Let us perform Randomized search technique to find the best parameter",
      "metadata": {}
    },
    {
      "cell_type": "code",
      "source": "from sklearn.svm import SVC\nsvm_model= SVC()",
      "execution_count": null,
      "outputs": [],
      "metadata": {}
    },
    {
      "cell_type": "code",
      "source": "tuned_parameters = {\n 'C': [0.1,1,10], 'kernel': ['linear'],\n 'C': [0.1,1,10], 'gamma': [1,0.1,0.01,0.001], 'kernel': ['rbf'],\n 'degree': [2,3,4] ,'gamma':[1,0.1,0.01,0.001], 'C':[0.1,1,10] , 'kernel':['poly']\n                   }",
      "execution_count": null,
      "outputs": [],
      "metadata": {}
    },
    {
      "cell_type": "code",
      "source": "from sklearn.grid_search import RandomizedSearchCV\n\nmodel_svm = RandomizedSearchCV(svm_model, tuned_parameters,cv=10,scoring='accuracy',n_iter=10)",
      "execution_count": null,
      "outputs": [],
      "metadata": {}
    },
    {
      "cell_type": "code",
      "source": "model_svm.fit(X_train, y_train)\nprint(model_svm.best_score_)",
      "execution_count": null,
      "outputs": [],
      "metadata": {}
    },
    {
      "cell_type": "code",
      "source": "print(model_svm.grid_scores_)",
      "execution_count": null,
      "outputs": [],
      "metadata": {}
    },
    {
      "cell_type": "code",
      "source": "print(model_svm.best_params_)",
      "execution_count": null,
      "outputs": [],
      "metadata": {}
    },
    {
      "cell_type": "code",
      "source": "y_pred= model_svm.predict(X_test)\nprint(metrics.accuracy_score(y_pred,y_test))",
      "execution_count": null,
      "outputs": [],
      "metadata": {}
    },
    {
      "cell_type": "markdown",
      "source": "# Taking the best parameters",
      "metadata": {}
    },
    {
      "cell_type": "code",
      "source": "from sklearn.svm import SVC\nsvm_model= SVC(C=1,gamma=0.1,kernel='poly',degree=3)",
      "execution_count": null,
      "outputs": [],
      "metadata": {}
    },
    {
      "cell_type": "code",
      "source": "model_svm.fit(X_train, y_train)\ny_pred= model_svm.predict(X_test)\nprint(metrics.accuracy_score(y_pred,y_test))",
      "execution_count": null,
      "outputs": [],
      "metadata": {}
    },
    {
      "cell_type": "markdown",
      "source": "**We can play with the hyperparameters and tune them with various values to further improve the score**",
      "metadata": {}
    }
  ]
}